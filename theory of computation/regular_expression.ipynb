{
  "nbformat": 4,
  "nbformat_minor": 0,
  "metadata": {
    "colab": {
      "provenance": []
    },
    "kernelspec": {
      "name": "python3",
      "display_name": "Python 3"
    },
    "language_info": {
      "name": "python"
    }
  },
  "cells": [
    {
      "cell_type": "code",
      "execution_count": null,
      "metadata": {
        "colab": {
          "base_uri": "https://localhost:8080/"
        },
        "id": "DbTE9p2X2DyF",
        "outputId": "797cf019-a9a5-4bcd-d254-276f02a5e19a"
      },
      "outputs": [
        {
          "output_type": "execute_result",
          "data": {
            "text/plain": [
              "['9994949256', '(999)-456-3222']"
            ]
          },
          "metadata": {},
          "execution_count": 2
        }
      ],
      "source": [
        "import re\n",
        "text='''\n",
        "elong musk pone number is 9994949256 , call him if you have any questions on dodgeoin .\n",
        "telsa CFO number (999)-456-3222\n",
        "'''\n",
        "pattern='\\(\\d{3}\\)-\\d{3}-\\d{4}|\\d{10}'\n",
        "matches =re.findall(pattern,text)\n",
        "matches"
      ]
    },
    {
      "cell_type": "code",
      "source": [
        "text='''\n",
        "Note 1 - Overview\n",
        "Tesla, Inc. (\"Tesla\", the \"Company\", \"we\", \"us\" or \"our\") was incorporated in the State of Delaware on\n",
        "products. Our Chief Executive Officer, as the chief operating decision maker (\"CODM\"), organizes our cc\n",
        "Beginning in the first quarter of 2021, there has been a trend in many parts of the world of increasing\n",
        "against COVID-19, as well as an easing of restrictions on social, business, travel and government activ\n",
        "rates and regulations continue to fluctuate in various regions and there are ongoing global impacts res\n",
        "and increases in costs for logistics and supply chains, such as increased port congestion, intermittent\n",
        "supply. We have also previously been affected by temporary manufacturing closures, employment and compe\n",
        "administrative activities supporting our product deliveries and deployments.\n",
        "Note 2 - Summary of Significant Accounting Policies\n",
        "Unaudited Interim Financial Statements\n",
        "The consolidated balance sheet as of September 30, 2021, the consolidated statements of operations, the\n",
        "comprehensive income, the consolidated statements of redeemable noncontrolling interests and equity for\n",
        "30, 2021 and 2020 and the consolidated statements of cash flows for the nine months ended September 30,\n",
        "disclosed in the accompanying notes, are unaudited. The consolidated balance sheet as of December 31, 2\n",
        "consolidated financial statements as of that date. The interim consolidated financial statements and th\n",
        "conjunction with the annual consolidated financial statements and the accompanying notes contained in c\n",
        "ended December 31, 2020.\n",
        "'''\n",
        "pattern='Note \\d - ([^\\n]*)'\n",
        "matches=re.findall(pattern,text)\n",
        "matches"
      ],
      "metadata": {
        "colab": {
          "base_uri": "https://localhost:8080/"
        },
        "id": "Zib0zVxb5Yfb",
        "outputId": "dc1f894b-92a7-4221-fed7-5b03b97b47f4"
      },
      "execution_count": null,
      "outputs": [
        {
          "output_type": "execute_result",
          "data": {
            "text/plain": [
              "['Overview', 'Summary of Significant Accounting Policies']"
            ]
          },
          "metadata": {},
          "execution_count": 3
        }
      ]
    },
    {
      "cell_type": "code",
      "source": [
        "text='''\n",
        "the gross cost of operating lease vehicles in FY2021 Q1 was $4.85 billion. In previous quarter i.e fy2020 Q4  it was $3 billion.\n",
        "'''\n",
        "pattern='FY\\d{4} Q[1-4]'\n",
        "matches=re.findall(pattern,text,flags=re.IGNORECASE)\n",
        "matches"
      ],
      "metadata": {
        "colab": {
          "base_uri": "https://localhost:8080/"
        },
        "id": "ULDPP9i-6VvQ",
        "outputId": "6bb8d676-dcaa-47a8-b257-315430af869c"
      },
      "execution_count": null,
      "outputs": [
        {
          "output_type": "execute_result",
          "data": {
            "text/plain": [
              "['FY2021 Q1', 'fy2020 Q4']"
            ]
          },
          "metadata": {},
          "execution_count": 6
        }
      ]
    },
    {
      "cell_type": "code",
      "source": [
        "text='''\n",
        "the gross cost of operating lease vehicles in FY2021 Q1 was $4.85 billion. In previous quarter i.e FY2020 Q4  it was $3 billion.\n",
        "'''\n",
        "pattern='\\$([\\0-9\\.]+)'\n",
        "matches=re.findall(pattern,text)\n",
        "matches"
      ],
      "metadata": {
        "colab": {
          "base_uri": "https://localhost:8080/"
        },
        "id": "UlQEw_jm7w6t",
        "outputId": "dcf61a41-5d0a-4e1e-ea2c-23c08d851ebe"
      },
      "execution_count": null,
      "outputs": [
        {
          "output_type": "execute_result",
          "data": {
            "text/plain": [
              "['4.85 ', '3 ']"
            ]
          },
          "metadata": {},
          "execution_count": 7
        }
      ]
    },
    {
      "cell_type": "code",
      "source": [
        "text='''\n",
        "the gross cost of operating lease vehicles in FY2021 Q1 was $4.85 billion. In previous quarter i.e FY2020 Q4  it was $3 billion.\n",
        "'''\n",
        "pattern=' FY(\\d{4} Q[1-4])[^\\$]+\\$([0-9\\.]+)'\n",
        "matches=re.findall(pattern,text)\n",
        "matches"
      ],
      "metadata": {
        "colab": {
          "base_uri": "https://localhost:8080/"
        },
        "id": "eAVR7mTsB3_6",
        "outputId": "a99fc55f-66a1-44c3-b9c3-40be3011ff22"
      },
      "execution_count": null,
      "outputs": [
        {
          "output_type": "execute_result",
          "data": {
            "text/plain": [
              "[('2021 Q1', '4.85'), ('2020 Q4', '3')]"
            ]
          },
          "metadata": {},
          "execution_count": 8
        }
      ]
    }
  ]
}
